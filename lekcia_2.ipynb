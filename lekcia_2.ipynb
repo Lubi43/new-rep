{
 "cells": [
  {
   "cell_type": "markdown",
   "id": "5e3a4f44",
   "metadata": {},
   "source": [
    "Task 1"
   ]
  },
  {
   "cell_type": "code",
   "execution_count": null,
   "id": "0330450f",
   "metadata": {},
   "outputs": [
    {
     "name": "stdout",
     "output_type": "stream",
     "text": [
      "Lubka\n",
      "Lubka\n",
      "Lubka\n",
      "Lubka\n",
      "Lubka\n",
      "Lubka\n",
      "Lubka\n",
      "Lubka\n",
      "Lubka\n",
      "Lubka\n",
      "Lubka\n"
     ]
    }
   ],
   "source": [
    "count = 0\n",
    "while count < 11:\n",
    "    print (\"Lubka\")\n",
    "    count += 1\n",
    "## count += pripocitava vzdy cislo za tym, teda 1 => a while kontroluje ci to je menej ako 11"
   ]
  },
  {
   "cell_type": "markdown",
   "id": "d9d85bba",
   "metadata": {},
   "source": [
    "Task 2"
   ]
  },
  {
   "cell_type": "code",
   "execution_count": 17,
   "id": "404ab248",
   "metadata": {},
   "outputs": [
    {
     "name": "stdout",
     "output_type": "stream",
     "text": [
      "3\n",
      "6\n",
      "9\n",
      "12\n",
      "15\n",
      "18\n",
      "21\n"
     ]
    }
   ],
   "source": [
    "nasobky = range(2, 22, 1)\n",
    "for x in nasobky:\n",
    "    if x % 3 == 0:\n",
    "     print (x)"
   ]
  },
  {
   "cell_type": "markdown",
   "id": "3c6a421a",
   "metadata": {},
   "source": [
    "Task 3"
   ]
  },
  {
   "cell_type": "code",
   "execution_count": 37,
   "id": "4cf80d1b",
   "metadata": {},
   "outputs": [
    {
     "name": "stdout",
     "output_type": "stream",
     "text": [
      "A\n"
     ]
    }
   ],
   "source": [
    "x = 100\n",
    "if 0 <= x <= 59:\n",
    "    print (\"F\")\n",
    "elif 60 <= x <= 69:\n",
    "    print (\"D\")\n",
    "elif 70 <= x <= 79:\n",
    "    print (\"C\")\n",
    "elif 80 <= x <= 89:\n",
    "    print (\"B\")\n",
    "elif 90 <= x <= 100:\n",
    "    print (\"A\")\n",
    "else: print (\"neplatna hodnota\")        "
   ]
  },
  {
   "cell_type": "markdown",
   "id": "9e757861",
   "metadata": {},
   "source": [
    "Task 4"
   ]
  },
  {
   "cell_type": "code",
   "execution_count": 51,
   "id": "2bd2c70d",
   "metadata": {},
   "outputs": [
    {
     "name": "stdout",
     "output_type": "stream",
     "text": [
      "True\n"
     ]
    }
   ],
   "source": [
    "colors = [\"blue\", \"green\", \"red\", \"yellow\", \"white\"]\n",
    "has_red = \"red\"\n",
    "if has_red in colors:\n",
    "    print (\"True\")\n",
    "else: print (\"False\")"
   ]
  },
  {
   "cell_type": "markdown",
   "id": "2f248b32",
   "metadata": {},
   "source": [
    "Task 5"
   ]
  },
  {
   "cell_type": "code",
   "execution_count": null,
   "id": "c4494057",
   "metadata": {},
   "outputs": [
    {
     "name": "stdout",
     "output_type": "stream",
     "text": [
      "True\n",
      "True\n",
      "False\n",
      "3\n",
      "3\n"
     ]
    }
   ],
   "source": [
    "my_list = [5==7, \"True\", \"random\"]\n",
    "count = 0\n",
    "print(bool(my_list[1]))\n",
    "print(bool(my_list[2]))\n",
    "print(bool(my_list[0]))\n",
    "for x in my_list:\n",
    "    bool(my_list) == True\n",
    "    count = count+1\n",
    "print(len(my_list))\n",
    "print(count)\n",
    "## neviem preco to nefunguje"
   ]
  },
  {
   "cell_type": "markdown",
   "id": "3ef1f09f",
   "metadata": {},
   "source": [
    "Task 6"
   ]
  },
  {
   "cell_type": "code",
   "execution_count": 57,
   "id": "6769659b",
   "metadata": {},
   "outputs": [
    {
     "name": "stdout",
     "output_type": "stream",
     "text": [
      "1.25\n",
      "3.57\n",
      "6.67\n"
     ]
    }
   ],
   "source": [
    "##Vytvor list floating-point čísel. Uprav list tak, aby každé číslo bolo zaokrúhlené na 2 desatinné miesta\n",
    "floats_list = [1.24564, 3.56948, 6.674636]\n",
    "print (round(floats_list[0],2))\n",
    "print (round(floats_list[1],2))\n",
    "print (round(floats_list[2],2))"
   ]
  },
  {
   "cell_type": "markdown",
   "id": "590e12eb",
   "metadata": {},
   "source": [
    "Task 7"
   ]
  },
  {
   "cell_type": "code",
   "execution_count": 58,
   "id": "7eb670f4",
   "metadata": {},
   "outputs": [
    {
     "name": "stdout",
     "output_type": "stream",
     "text": [
      "1\n",
      "2\n",
      "3\n",
      "5\n",
      "6\n",
      "7\n",
      "9\n",
      "10\n",
      "11\n",
      "13\n",
      "14\n",
      "15\n",
      "17\n",
      "18\n",
      "19\n"
     ]
    }
   ],
   "source": [
    "##Vytvor set s číslami 1 až 20. Odstráň všetky čísla deliteľné 4 a printni zostávajúci set.\n",
    "set = {1, 2, 3, 4, 5, 6, 7, 8, 9, 10, 11, 12, 13, 14, 15, 16, 17, 18, 19, 20}\n",
    "for x in set:\n",
    "    if x % 4 != 0:\n",
    "     print (x)"
   ]
  },
  {
   "cell_type": "markdown",
   "id": "38fb949a",
   "metadata": {},
   "source": [
    "Task 8"
   ]
  },
  {
   "cell_type": "code",
   "execution_count": 59,
   "id": "6d76859f",
   "metadata": {},
   "outputs": [
    {
     "name": "stdout",
     "output_type": "stream",
     "text": [
      "{3, 5, 7}\n"
     ]
    }
   ],
   "source": [
    "##Vytvor dva sets, a a b, každý so 7 číslami medzi 0 a 9. Teraz vytvor set c, ktorý obsahuje hodnoty z a bez hodnôt, ktoré sa tiež vyskytujú v b.\n",
    "a = {1, 2, 3, 5, 6, 7, 9}\n",
    "b = {0, 1, 2, 4, 6, 8, 9}\n",
    "c = a - b\n",
    "print (c)"
   ]
  },
  {
   "cell_type": "markdown",
   "id": "f628d2ee",
   "metadata": {},
   "source": [
    "Task 9"
   ]
  },
  {
   "cell_type": "code",
   "execution_count": null,
   "id": "bf72ad6a",
   "metadata": {},
   "outputs": [
    {
     "name": "stdout",
     "output_type": "stream",
     "text": [
      "pondelok\n"
     ]
    }
   ],
   "source": [
    "##Vytvor variable day_idx s hodnotou medzi 1 a 365. Použi control flows na určenie toho, ktorý deň v týždni to je. (Hint: Zváž ako vieš využiť modulo operátor pri hľadaní vzoru.)\n",
    "day_idx = 293\n",
    "if day_idx % 7 == 0:\n",
    "    print (\"utorok\")\n",
    "elif day_idx % 7 == 1:\n",
    "    print (\"streda\")\n",
    "elif day_idx % 7 == 2:\n",
    "    print (\"stvrtok\")\n",
    "elif day_idx % 7 == 3:\n",
    "    print (\"piatok\")\n",
    "elif day_idx % 7 == 4:\n",
    "    print (\"sobota\")\n",
    "elif day_idx % 7 == 5:\n",
    "    print (\"nedela\")\n",
    "elif day_idx % 7 == 6:\n",
    "    print (\"pondelok\")\n",
    "else: print (\"chyba\")\n",
    "\n",
    " ## utorok, delenie dalo 0\n",
    " ## streda = 1, stvrtok = 2, piatok = 3, sobota = 4, nedela = 5, pondelok = 6"
   ]
  },
  {
   "cell_type": "markdown",
   "id": "530bb544",
   "metadata": {},
   "source": [
    "Task 10"
   ]
  },
  {
   "cell_type": "code",
   "execution_count": null,
   "id": "0e215ba6",
   "metadata": {},
   "outputs": [],
   "source": [
    "##Vytvor list stringov reprezentujúcich názvy súborov (aj s koncovkami ako '.pdf', '.txt', '.jpg', '.docx' atď.). Použi loops na odfiltrovanie stringov, ktoré nereprezentujú textové súbory a printni výsledok.\n",
    "file_name = [\"file.pdf\", \"file.txt\", \"file.jpg\", \"file.docx\", \"file.abc\"]\n"
   ]
  }
 ],
 "metadata": {
  "kernelspec": {
   "display_name": "Python 3",
   "language": "python",
   "name": "python3"
  },
  "language_info": {
   "codemirror_mode": {
    "name": "ipython",
    "version": 3
   },
   "file_extension": ".py",
   "mimetype": "text/x-python",
   "name": "python",
   "nbconvert_exporter": "python",
   "pygments_lexer": "ipython3",
   "version": "3.14.0"
  }
 },
 "nbformat": 4,
 "nbformat_minor": 5
}
