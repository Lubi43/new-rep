{
 "cells": [
  {
   "cell_type": "markdown",
   "id": "21060438",
   "metadata": {},
   "source": [
    "Task 13"
   ]
  },
  {
   "cell_type": "code",
   "execution_count": null,
   "id": "dbaca716",
   "metadata": {},
   "outputs": [],
   "source": [
    "def fibonacci(n):  \n",
    "    if n < 0:  \n",
    "        return None\n",
    "    a, b = 0, 1  \n",
    "    for _ in range(n):  \n",
    "        a, b = b, a + b \n",
    "    return b  "
   ]
  },
  {
   "cell_type": "code",
   "execution_count": null,
   "id": "6fb44798",
   "metadata": {},
   "outputs": [],
   "source": [
    "def fib_recursive(n):  \n",
    "    if n < 2:  \n",
    "        return n  \n",
    "    else:  \n",
    "        return fib_recursive(n-1) + fib_recursive(n-2)\n",
    "    \n",
    "##recursive version"
   ]
  },
  {
   "cell_type": "code",
   "execution_count": 13,
   "id": "57f07266",
   "metadata": {},
   "outputs": [
    {
     "name": "stdout",
     "output_type": "stream",
     "text": [
      "13\n",
      "13\n"
     ]
    }
   ],
   "source": [
    "print(fibonacci(6))\n",
    "print(fib_recursive(7))"
   ]
  },
  {
   "cell_type": "markdown",
   "id": "2f797623",
   "metadata": {},
   "source": [
    "Task 14"
   ]
  },
  {
   "cell_type": "code",
   "execution_count": 15,
   "id": "f949074c",
   "metadata": {},
   "outputs": [],
   "source": [
    "def gcd(a, b):   \n",
    "    a = abs(a)  \n",
    "    b = abs(b)  \n",
    "    \n",
    "    if b == 0:  \n",
    "        return a  \n",
    "    else:  \n",
    "        return gcd(b, a % b)  "
   ]
  },
  {
   "cell_type": "code",
   "execution_count": 22,
   "id": "899b755c",
   "metadata": {},
   "outputs": [
    {
     "name": "stdout",
     "output_type": "stream",
     "text": [
      "105\n",
      "5\n",
      "0\n"
     ]
    }
   ],
   "source": [
    "print(gcd(210, 105))\n",
    "print(gcd(-15, 25))  \n",
    "print(gcd(0, 0))"
   ]
  }
 ],
 "metadata": {
  "kernelspec": {
   "display_name": "Python 3",
   "language": "python",
   "name": "python3"
  },
  "language_info": {
   "codemirror_mode": {
    "name": "ipython",
    "version": 3
   },
   "file_extension": ".py",
   "mimetype": "text/x-python",
   "name": "python",
   "nbconvert_exporter": "python",
   "pygments_lexer": "ipython3",
   "version": "3.14.0"
  }
 },
 "nbformat": 4,
 "nbformat_minor": 5
}
