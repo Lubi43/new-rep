{
 "cells": [
  {
   "cell_type": "markdown",
   "id": "97fa7d94",
   "metadata": {},
   "source": [
    "Task 3"
   ]
  },
  {
   "cell_type": "code",
   "execution_count": 51,
   "id": "ee3e2035",
   "metadata": {},
   "outputs": [
    {
     "name": "stdout",
     "output_type": "stream",
     "text": [
      "<class 'int'>\n",
      "<class 'float'>\n",
      "<class 'str'>\n"
     ]
    }
   ],
   "source": [
    "x = 10\n",
    "y = 5.5\n",
    "z = \"zetko\"\n",
    "print(type(x))\n",
    "print(type(y))\n",
    "print(type(z))"
   ]
  },
  {
   "cell_type": "markdown",
   "id": "9b4b9eb5",
   "metadata": {},
   "source": [
    "Task 4"
   ]
  },
  {
   "cell_type": "code",
   "execution_count": 52,
   "id": "d06ca71d",
   "metadata": {},
   "outputs": [
    {
     "name": "stdout",
     "output_type": "stream",
     "text": [
      "100\n"
     ]
    }
   ],
   "source": [
    "n = 5\n",
    "sucinsuctov = (n + n)*(n + n)\n",
    "print(sucinsuctov)"
   ]
  },
  {
   "cell_type": "markdown",
   "id": "34f86b6e",
   "metadata": {},
   "source": [
    "Task 5"
   ]
  },
  {
   "cell_type": "code",
   "execution_count": 11,
   "id": "02571689",
   "metadata": {},
   "outputs": [
    {
     "name": "stdout",
     "output_type": "stream",
     "text": [
      "28\n"
     ]
    }
   ],
   "source": [
    "x = 3\n",
    "y = 10\n",
    "vypocet = x*x + x*x + y\n",
    "print(vypocet)"
   ]
  },
  {
   "cell_type": "markdown",
   "id": "a17a3c72",
   "metadata": {},
   "source": [
    "Task 6"
   ]
  },
  {
   "cell_type": "code",
   "execution_count": 16,
   "id": "12f5462d",
   "metadata": {},
   "outputs": [
    {
     "name": "stdout",
     "output_type": "stream",
     "text": [
      "John, 23, john1@gmail.com\n"
     ]
    }
   ],
   "source": [
    "meno = \"John\"\n",
    "vek = 23\n",
    "email = \"john1@gmail.com\"\n",
    "print (meno + \", \" + str(vek) + \", \" + email)"
   ]
  },
  {
   "cell_type": "markdown",
   "id": "c04580c9",
   "metadata": {},
   "source": [
    "Task 7"
   ]
  },
  {
   "cell_type": "code",
   "execution_count": 2,
   "id": "07dc905e",
   "metadata": {},
   "outputs": [
    {
     "name": "stdout",
     "output_type": "stream",
     "text": [
      "hruba mzda je 400\n",
      "cista mzde je 308.0\n"
     ]
    }
   ],
   "source": [
    "hodmzda = 10\n",
    "odprachod = 40\n",
    "hruba = hodmzda*odprachod\n",
    "cista = hruba/100*77\n",
    "print (\"hruba mzda je \" + str(hruba))\n",
    "print (\"cista mzde je \" + str(cista))"
   ]
  },
  {
   "cell_type": "markdown",
   "id": "85a7b73e",
   "metadata": {},
   "source": [
    "Task 8"
   ]
  },
  {
   "cell_type": "code",
   "execution_count": 37,
   "id": "614e80de",
   "metadata": {},
   "outputs": [
    {
     "name": "stdout",
     "output_type": "stream",
     "text": [
      "1008\n"
     ]
    }
   ],
   "source": [
    "uspory = 1000\n",
    "vklad = 100\n",
    "urok = 0.021\n",
    "nasporene = uspory * int ((1+(urok/24)))^24\n",
    "print (nasporene)"
   ]
  },
  {
   "cell_type": "markdown",
   "id": "b685dbc4",
   "metadata": {},
   "source": [
    "Task 9"
   ]
  },
  {
   "cell_type": "code",
   "execution_count": null,
   "id": "fce8869a",
   "metadata": {},
   "outputs": [],
   "source": [
    "seconds = 3749\n",
    "minuty = seconds - 60\n",
    "hodiny = \n",
    "## nepodarilo sa ale pregooglila som sa sem https://www.geeksforgeeks.org/python/python-program-to-convert-seconds-into-hours-minutes-and-seconds/"
   ]
  },
  {
   "cell_type": "markdown",
   "id": "0766cdb4",
   "metadata": {},
   "source": [
    "Task 10"
   ]
  },
  {
   "cell_type": "code",
   "execution_count": 50,
   "id": "47544d88",
   "metadata": {},
   "outputs": [
    {
     "name": "stdout",
     "output_type": "stream",
     "text": [
      "0\n"
     ]
    }
   ],
   "source": [
    "pocetdni = 175 % 7\n",
    "print (pocetdni)\n",
    " ## utorok, delenie dalo 0\n",
    " ## streda = 1, stvrtok = 2, piatok = 3, sobota = 4, nedela = 5, pondelok = 7"
   ]
  },
  {
   "cell_type": "markdown",
   "id": "c3f8c066",
   "metadata": {},
   "source": [
    "Task 11"
   ]
  },
  {
   "cell_type": "code",
   "execution_count": 54,
   "id": "736bf9f1",
   "metadata": {},
   "outputs": [
    {
     "name": "stdout",
     "output_type": "stream",
     "text": [
      "True\n"
     ]
    }
   ],
   "source": [
    "quartered = bool(4792 % 4==0)\n",
    "print (quartered)"
   ]
  },
  {
   "cell_type": "markdown",
   "id": "a7f74a3c",
   "metadata": {},
   "source": [
    "Task 12"
   ]
  },
  {
   "cell_type": "code",
   "execution_count": 6,
   "id": "1b33ff43",
   "metadata": {},
   "outputs": [
    {
     "name": "stdout",
     "output_type": "stream",
     "text": [
      "8.75\n",
      "8\n"
     ]
    }
   ],
   "source": [
    "salky = 4\n",
    "ludia = 5\n",
    "vyskalovanie = ludia*7/salky\n",
    "print (vyskalovanie)\n",
    "print (int (vyskalovanie))"
   ]
  },
  {
   "cell_type": "markdown",
   "id": "f331bfe7",
   "metadata": {},
   "source": [
    "Task 13"
   ]
  },
  {
   "cell_type": "code",
   "execution_count": 9,
   "id": "a258fbe8",
   "metadata": {},
   "outputs": [
    {
     "name": "stdout",
     "output_type": "stream",
     "text": [
      "False\n"
     ]
    }
   ],
   "source": [
    "age = 16\n",
    "limit = 18\n",
    "if age >= limit:\n",
    "    print (\"True\")\n",
    "else:\n",
    "    print (\"False\")"
   ]
  },
  {
   "cell_type": "markdown",
   "id": "347434f6",
   "metadata": {},
   "source": [
    "Task 14"
   ]
  },
  {
   "cell_type": "code",
   "execution_count": 15,
   "id": "4283ead6",
   "metadata": {},
   "outputs": [
    {
     "name": "stdout",
     "output_type": "stream",
     "text": [
      "False\n"
     ]
    }
   ],
   "source": [
    "coockies = 134\n",
    "people =135\n",
    "print (bool(coockies>=people))"
   ]
  },
  {
   "cell_type": "markdown",
   "id": "83d2f8e7",
   "metadata": {},
   "source": [
    "Task 15"
   ]
  },
  {
   "cell_type": "code",
   "execution_count": 27,
   "id": "fb5fe63e",
   "metadata": {},
   "outputs": [
    {
     "name": "stdout",
     "output_type": "stream",
     "text": [
      "the weather is unpleasant:\n",
      "True\n"
     ]
    }
   ],
   "source": [
    "x = 30\n",
    "unpleasant = x < 17 or x > 27\n",
    "print (\"the weather is unpleasant:\")\n",
    "print (bool(unpleasant))"
   ]
  }
 ],
 "metadata": {
  "kernelspec": {
   "display_name": "Python 3",
   "language": "python",
   "name": "python3"
  },
  "language_info": {
   "codemirror_mode": {
    "name": "ipython",
    "version": 3
   },
   "file_extension": ".py",
   "mimetype": "text/x-python",
   "name": "python",
   "nbconvert_exporter": "python",
   "pygments_lexer": "ipython3",
   "version": "3.14.0"
  }
 },
 "nbformat": 4,
 "nbformat_minor": 5
}
